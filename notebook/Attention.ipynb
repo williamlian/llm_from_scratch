{
 "cells": [
  {
   "cell_type": "markdown",
   "id": "cffbad9d-13d7-4851-930f-5df08491de16",
   "metadata": {},
   "source": [
    "# Simple Attention"
   ]
  },
  {
   "cell_type": "code",
   "execution_count": 1,
   "id": "4cfa702e-ad40-47e7-91d7-8efe90826413",
   "metadata": {},
   "outputs": [],
   "source": [
    "import torch\n",
    "inputs = torch.tensor(\n",
    "    [[0.43, 0.15, 0.89], # Your     (x^1)\n",
    "     [0.55, 0.87, 0.66], # journey  (x^2)\n",
    "     [0.57, 0.85, 0.64], # starts   (x^3)\n",
    "     [0.22, 0.58, 0.33], # with     (x^4)\n",
    "     [0.77, 0.25, 0.10], # one      (x^5)\n",
    "     [0.05, 0.80, 0.55]] # step     (x^6)\n",
    ")"
   ]
  },
  {
   "cell_type": "markdown",
   "id": "57a40b2e-3336-408f-9acf-c78c5d65cb80",
   "metadata": {},
   "source": [
    "### Attention weight is simply self multiplication\n",
    "\n",
    "`[Context_szie x Dimension] * [Dimension * Context_size]`\n",
    "* Row i: attentions regarding ith input token\n",
    "* Col j: weight towards the jth input token"
   ]
  },
  {
   "cell_type": "code",
   "execution_count": 1,
   "id": "fae574ea-fbf6-4e5e-bcda-75c7f80e7d85",
   "metadata": {},
   "outputs": [
    {
     "ename": "NameError",
     "evalue": "name 'torch' is not defined",
     "output_type": "error",
     "traceback": [
      "\u001b[0;31m---------------------------------------------------------------------------\u001b[0m",
      "\u001b[0;31mNameError\u001b[0m                                 Traceback (most recent call last)",
      "Cell \u001b[0;32mIn[1], line 1\u001b[0m\n\u001b[0;32m----> 1\u001b[0m attention_weights \u001b[38;5;241m=\u001b[39m \u001b[43mtorch\u001b[49m\u001b[38;5;241m.\u001b[39msoftmax(inputs \u001b[38;5;241m@\u001b[39m inputs\u001b[38;5;241m.\u001b[39mT, dim\u001b[38;5;241m=\u001b[39m\u001b[38;5;241m-\u001b[39m\u001b[38;5;241m1\u001b[39m)\n\u001b[1;32m      2\u001b[0m attention_weights\n",
      "\u001b[0;31mNameError\u001b[0m: name 'torch' is not defined"
     ]
    }
   ],
   "source": [
    "attention_weights = torch.softmax(inputs @ inputs.T, dim=-1)\n",
    "attention_weights"
   ]
  },
  {
   "cell_type": "code",
   "execution_count": null,
   "id": "e72871e1-5eab-41f0-9956-9311c954a220",
   "metadata": {},
   "outputs": [
    {
     "data": {
      "text/plain": [
       "tensor([1.0000, 1.0000, 1.0000, 1.0000, 1.0000, 1.0000])"
      ]
     },
     "execution_count": 4,
     "metadata": {},
     "output_type": "execute_result"
    }
   ],
   "source": [
    "attention_weights.sum(-1)"
   ]
  },
  {
   "cell_type": "markdown",
   "id": "6c665142-5bbc-4960-af05-8cc20a92547e",
   "metadata": {},
   "source": [
    "### Attention embedding\n",
    "\n",
    "`[Context size * Context size] * [Context size * Dimension]`\n",
    "\n",
    "Each input's attention weights (rows in first matrix) is dot product with each of the dimensions\n",
    "* Row i: input i\n",
    "* Col j: j dimension of the attention embedding"
   ]
  },
  {
   "cell_type": "code",
   "execution_count": null,
   "id": "58002262-5a2b-4b49-95e3-6228bd0f5488",
   "metadata": {},
   "outputs": [
    {
     "data": {
      "text/plain": [
       "tensor([[0.4421, 0.5931, 0.5790],\n",
       "        [0.4419, 0.6515, 0.5683],\n",
       "        [0.4431, 0.6496, 0.5671],\n",
       "        [0.4304, 0.6298, 0.5510],\n",
       "        [0.4671, 0.5910, 0.5266],\n",
       "        [0.4177, 0.6503, 0.5645]])"
      ]
     },
     "execution_count": 5,
     "metadata": {},
     "output_type": "execute_result"
    }
   ],
   "source": [
    "attention_embedding = attention_weights @ inputs \n",
    "attention_embedding"
   ]
  },
  {
   "cell_type": "code",
   "execution_count": null,
   "id": "627e0bbd-7e1e-4a39-8eae-f3dbeb26e4da",
   "metadata": {},
   "outputs": [
    {
     "data": {
      "text/plain": [
       "tensor([[0.4300, 0.1500, 0.8900],\n",
       "        [0.5500, 0.8700, 0.6600],\n",
       "        [0.5700, 0.8500, 0.6400],\n",
       "        [0.2200, 0.5800, 0.3300],\n",
       "        [0.7700, 0.2500, 0.1000],\n",
       "        [0.0500, 0.8000, 0.5500]])"
      ]
     },
     "execution_count": 6,
     "metadata": {},
     "output_type": "execute_result"
    }
   ],
   "source": [
    "inputs"
   ]
  },
  {
   "cell_type": "markdown",
   "id": "9f5434fd-2179-4d0f-b4dd-85c2fb81fd40",
   "metadata": {},
   "source": [
    "### Self Attention"
   ]
  },
  {
   "cell_type": "code",
   "execution_count": null,
   "id": "70209a4b-a588-4a86-beb3-a09201de1bfe",
   "metadata": {
    "editable": true,
    "slideshow": {
     "slide_type": ""
    },
    "tags": []
   },
   "outputs": [],
   "source": [
    "import tiktoken\n",
    "with open(\"the-verdict.txt\", \"r\", encoding=\"utf-8\") as f:\n",
    "    raw_text = f.read()\n",
    "tokenizer = tiktoken.get_encoding('gpt2')\n",
    "token_ids = tokenizer.encode(raw_text)"
   ]
  },
  {
   "cell_type": "code",
   "execution_count": null,
   "id": "d639f01a-2370-4904-bf12-b28ffcacb852",
   "metadata": {},
   "outputs": [
    {
     "data": {
      "text/plain": [
       "tensor([0.7743, 1.6062, 0.3699, 1.1433], grad_fn=<SliceBackward0>)"
      ]
     },
     "execution_count": 8,
     "metadata": {},
     "output_type": "execute_result"
    }
   ],
   "source": [
    "EMBEDDING_DIM = 4\n",
    "CONTEXT_SIZE = 6\n",
    "embedding_layer = torch.nn.Embedding(tokenizer.n_vocab, EMBEDDING_DIM)\n",
    "inputs = embedding_layer(torch.tensor(token_ids[:CONTEXT_SIZE], requires_grad=False))\n",
    "inputs = inputs.abs() # reduce value variance\n",
    "inputs[0][:10]"
   ]
  },
  {
   "cell_type": "code",
   "execution_count": null,
   "id": "fac31ca9-e5c1-413b-b89f-68384c53569f",
   "metadata": {
    "editable": true,
    "slideshow": {
     "slide_type": ""
    },
    "tags": []
   },
   "outputs": [
    {
     "name": "stdout",
     "output_type": "stream",
     "text": [
      "in_dim=4\n"
     ]
    }
   ],
   "source": [
    "in_dim = inputs.shape[1]\n",
    "out_dim = EMBEDDING_DIM\n",
    "print(f\"in_dim={in_dim}\")"
   ]
  },
  {
   "cell_type": "code",
   "execution_count": null,
   "id": "ae93d533-5f9b-4eb0-baa7-afe26a8178ef",
   "metadata": {},
   "outputs": [
    {
     "data": {
      "text/plain": [
       "tensor([0.0628, 0.8390, 0.7080, 0.3304])"
      ]
     },
     "execution_count": 10,
     "metadata": {},
     "output_type": "execute_result"
    }
   ],
   "source": [
    "W_q = torch.nn.Parameter(torch.rand(in_dim, out_dim), requires_grad=False)\n",
    "W_k = torch.nn.Parameter(torch.rand(in_dim, out_dim), requires_grad=False)\n",
    "W_v = torch.nn.Parameter(torch.rand(in_dim, out_dim), requires_grad=False)\n",
    "W_k[0][:10]"
   ]
  },
  {
   "cell_type": "code",
   "execution_count": null,
   "id": "07bc902f-7d2b-4ddb-a727-dafeca98c1a7",
   "metadata": {},
   "outputs": [
    {
     "name": "stdout",
     "output_type": "stream",
     "text": [
      "query=torch.Size([6, 4])\n",
      "key=torch.Size([6, 4])\n",
      "value=torch.Size([6, 4])\n"
     ]
    }
   ],
   "source": [
    "query = inputs @ W_q\n",
    "key = inputs @ W_k\n",
    "value = inputs @ W_v\n",
    "print(f\"query={query.shape}\\nkey={key.shape}\\nvalue={value.shape}\")"
   ]
  },
  {
   "cell_type": "code",
   "execution_count": null,
   "id": "71ed05d7-fb45-419e-a98d-36234b77bb39",
   "metadata": {},
   "outputs": [
    {
     "data": {
      "text/plain": [
       "tensor([18.4146, 24.3641, 24.9585, 10.2176, 13.0545, 37.7691],\n",
       "       grad_fn=<SliceBackward0>)"
      ]
     },
     "execution_count": 12,
     "metadata": {},
     "output_type": "execute_result"
    }
   ],
   "source": [
    "attention_score = query @ key.T\n",
    "attention_score[0][:10]"
   ]
  },
  {
   "cell_type": "code",
   "execution_count": null,
   "id": "8b321b8e-b258-4453-acdf-138d02795021",
   "metadata": {},
   "outputs": [
    {
     "name": "stdout",
     "output_type": "stream",
     "text": [
      "scale = 2.0\n"
     ]
    },
    {
     "data": {
      "text/plain": [
       "tensor([ 9.2073, 12.1821, 12.4793,  5.1088,  6.5272, 18.8845],\n",
       "       grad_fn=<SliceBackward0>)"
      ]
     },
     "execution_count": 13,
     "metadata": {},
     "output_type": "execute_result"
    }
   ],
   "source": [
    "print(f\"scale = {out_dim ** 0.5}\")\n",
    "(attention_score / out_dim ** 0.5)[0][:10]"
   ]
  },
  {
   "cell_type": "markdown",
   "id": "653e6896-4bca-4ccd-a3f9-164054dee351",
   "metadata": {},
   "source": [
    "### Softmax without scaling"
   ]
  },
  {
   "cell_type": "code",
   "execution_count": null,
   "id": "210290ef-af97-405c-a1c8-2cae64f413d3",
   "metadata": {},
   "outputs": [
    {
     "data": {
      "text/plain": [
       "tensor([3.9307e-09, 1.5077e-06, 2.7319e-06, 1.0828e-12, 1.8475e-11, 1.0000e+00],\n",
       "       grad_fn=<SliceBackward0>)"
      ]
     },
     "execution_count": 14,
     "metadata": {},
     "output_type": "execute_result"
    }
   ],
   "source": [
    "scores_unscaled = torch.softmax(attention_score, dim=-1)\n",
    "scores_unscaled[0][:10]"
   ]
  },
  {
   "cell_type": "code",
   "execution_count": null,
   "id": "d5118dcf-4528-47b9-b68a-84f003751076",
   "metadata": {},
   "outputs": [
    {
     "data": {
      "image/png": "[encoded data removed]",
      "text/plain": [
       "<Figure size 640x480 with 1 Axes>"
      ]
     },
     "metadata": {},
     "output_type": "display_data"
    }
   ],
   "source": [
    "import numpy\n",
    "import matplotlib.pyplot as plt\n",
    "all_data = scores_unscaled.detach().numpy().flatten()\n",
    "p=plt.hist(all_data, bins=20, range=[0,1])"
   ]
  },
  {
   "cell_type": "markdown",
   "id": "ff1ca2fb-8513-441c-9652-aed468e1d99f",
   "metadata": {},
   "source": [
    "### Softmax with scaling"
   ]
  },
  {
   "cell_type": "code",
   "execution_count": null,
   "id": "f5e8c3c6-2619-44d2-b0b4-3ab908a299fb",
   "metadata": {},
   "outputs": [
    {
     "data": {
      "text/plain": [
       "tensor([6.2511e-05, 1.2243e-03, 1.6480e-03, 1.0375e-06, 4.2857e-06, 9.9706e-01],\n",
       "       grad_fn=<SliceBackward0>)"
      ]
     },
     "execution_count": 16,
     "metadata": {},
     "output_type": "execute_result"
    }
   ],
   "source": [
    "scores_scaled = torch.softmax(attention_score / out_dim**0.5 , dim=-1)\n",
    "scores_scaled[0][:10]"
   ]
  },
  {
   "cell_type": "code",
   "execution_count": null,
   "id": "bdaa367c-4e3d-4627-b495-690f636b6215",
   "metadata": {},
   "outputs": [
    {
     "data": {
      "image/png": "[encoded data removed]",
      "text/plain": [
       "<Figure size 640x480 with 1 Axes>"
      ]
     },
     "metadata": {},
     "output_type": "display_data"
    }
   ],
   "source": [
    "all_data = scores_scaled.detach().numpy().flatten()\n",
    "p=plt.hist(all_data, bins=20)"
   ]
  },
  {
   "cell_type": "code",
   "execution_count": null,
   "id": "49a0436b-d736-46b7-b43e-5313ca381752",
   "metadata": {},
   "outputs": [
    {
     "data": {
      "text/plain": [
       "tensor([[0.7743, 1.6062, 0.3699, 1.1433],\n",
       "        [0.0638, 1.0122, 2.0194, 1.5732],\n",
       "        [0.4044, 0.7246, 1.1274, 2.4576],\n",
       "        [0.6338, 0.0303, 0.7836, 0.5576],\n",
       "        [0.7420, 0.4649, 1.3946, 0.0973],\n",
       "        [2.4284, 0.8393, 3.1497, 1.2533]], grad_fn=<AbsBackward0>)"
      ]
     },
     "execution_count": 18,
     "metadata": {},
     "output_type": "execute_result"
    }
   ],
   "source": [
    "inputs"
   ]
  },
  {
   "cell_type": "code",
   "execution_count": null,
   "id": "1bb542d1",
   "metadata": {},
   "outputs": [],
   "source": [
    "from self_attention_v1 import SelfAttentionV1\n",
    "from self_attention_v2 import SelfAttentionV2\n",
    "torch.manual_seed(789)\n",
    "\n",
    "self_attention_v1 = SelfAttentionV1(inputs.shape[1], 2)\n",
    "self_attention_v2 = SelfAttentionV2(inputs.shape[1], 2)"
   ]
  },
  {
   "cell_type": "code",
   "execution_count": null,
   "id": "ea27a2d4",
   "metadata": {},
   "outputs": [
    {
     "name": "stdout",
     "output_type": "stream",
     "text": [
      "tensor([[3.9339, 2.7046],\n",
      "        [3.9286, 2.7012],\n",
      "        [3.9342, 2.7048],\n",
      "        [3.6845, 2.5471],\n",
      "        [3.8317, 2.6399],\n",
      "        [3.9379, 2.7072]], grad_fn=<MmBackward0>)\n",
      "tensor([[-0.2866,  0.6251],\n",
      "        [-0.2484,  0.6460],\n",
      "        [-0.2454,  0.6479],\n",
      "        [-0.2617,  0.6402],\n",
      "        [-0.2640,  0.6386],\n",
      "        [-0.2056,  0.6569]], grad_fn=<MmBackward0>)\n"
     ]
    }
   ],
   "source": [
    "print(self_attention_v1.forward(inputs))\n",
    "print(self_attention_v2.forward(inputs))"
   ]
  },
  {
   "cell_type": "code",
   "execution_count": null,
   "id": "36365e4d",
   "metadata": {},
   "outputs": [
    {
     "data": {
      "text/plain": [
       "tensor([[0.7051, 0.6848],\n",
       "        [0.2748, 0.0579],\n",
       "        [0.7187, 0.3775],\n",
       "        [0.3301, 0.9496]])"
      ]
     },
     "execution_count": 21,
     "metadata": {},
     "output_type": "execute_result"
    }
   ],
   "source": [
    "self_attention_v1.W_key.data"
   ]
  },
  {
   "cell_type": "code",
   "execution_count": null,
   "id": "b6acb367",
   "metadata": {},
   "outputs": [],
   "source": [
    "self_attention_v1.W_query.data = self_attention_v2.W_query.weight.T\n",
    "self_attention_v1.W_key.data = self_attention_v2.W_key.weight.T\n",
    "self_attention_v1.W_value.data = self_attention_v2.W_value.weight.T"
   ]
  },
  {
   "cell_type": "code",
   "execution_count": null,
   "id": "bb388299",
   "metadata": {},
   "outputs": [
    {
     "name": "stdout",
     "output_type": "stream",
     "text": [
      "tensor([[-0.2866,  0.6251],\n",
      "        [-0.2484,  0.6460],\n",
      "        [-0.2454,  0.6479],\n",
      "        [-0.2617,  0.6402],\n",
      "        [-0.2640,  0.6386],\n",
      "        [-0.2056,  0.6569]], grad_fn=<MmBackward0>)\n",
      "tensor([[-0.2866,  0.6251],\n",
      "        [-0.2484,  0.6460],\n",
      "        [-0.2454,  0.6479],\n",
      "        [-0.2617,  0.6402],\n",
      "        [-0.2640,  0.6386],\n",
      "        [-0.2056,  0.6569]], grad_fn=<MmBackward0>)\n"
     ]
    }
   ],
   "source": [
    "print(self_attention_v1.forward(inputs))\n",
    "print(self_attention_v2.forward(inputs))"
   ]
  },
  {
   "cell_type": "code",
   "execution_count": null,
   "id": "060f0ef6",
   "metadata": {},
   "outputs": [
    {
     "data": {
      "text/plain": [
       "tensor([[False,  True,  True,  True,  True,  True],\n",
       "        [False, False,  True,  True,  True,  True],\n",
       "        [False, False, False,  True,  True,  True],\n",
       "        [False, False, False, False,  True,  True],\n",
       "        [False, False, False, False, False,  True],\n",
       "        [False, False, False, False, False, False]])"
      ]
     },
     "execution_count": 24,
     "metadata": {},
     "output_type": "execute_result"
    }
   ],
   "source": [
    "context_length = inputs.shape[0]\n",
    "torch.triu(torch.ones(context_length, context_length), diagonal=1).bool()\n"
   ]
  },
  {
   "cell_type": "code",
   "execution_count": null,
   "id": "4d714515",
   "metadata": {},
   "outputs": [
    {
     "data": {
      "text/plain": [
       "tensor([[0., 2., 0., 2., 2., 0.],\n",
       "        [0., 0., 0., 0., 0., 2.],\n",
       "        [2., 2., 2., 0., 2., 2.],\n",
       "        [0., 2., 0., 2., 2., 0.],\n",
       "        [2., 0., 0., 2., 0., 2.],\n",
       "        [2., 0., 0., 2., 0., 2.]])"
      ]
     },
     "execution_count": 25,
     "metadata": {},
     "output_type": "execute_result"
    }
   ],
   "source": [
    "dropout = torch.nn.Dropout(0.5)\n",
    "dropout(torch.ones(6,6))"
   ]
  },
  {
   "cell_type": "markdown",
   "id": "dd5ed759",
   "metadata": {},
   "source": [
    "# Attention with batch"
   ]
  },
  {
   "cell_type": "code",
   "execution_count": 2,
   "id": "a3eb7efc",
   "metadata": {},
   "outputs": [
    {
     "data": {
      "text/plain": [
       "torch.Size([2, 6, 3])"
      ]
     },
     "execution_count": 2,
     "metadata": {},
     "output_type": "execute_result"
    }
   ],
   "source": [
    "torch.manual_seed(123)\n",
    "batch = torch.stack((inputs, inputs))\n",
    "batch.shape"
   ]
  },
  {
   "cell_type": "code",
   "execution_count": 3,
   "id": "9577699c",
   "metadata": {},
   "outputs": [],
   "source": [
    "batch_size, context_size, d_in = batch.shape\n",
    "W_queries = torch.nn.Linear(d_in, 2, False)\n",
    "W_keys = torch.nn.Linear(d_in, 2, False)\n",
    "W_values = torch.nn.Linear(d_in, 2, False) "
   ]
  },
  {
   "cell_type": "code",
   "execution_count": null,
   "id": "ed9366a5",
   "metadata": {},
   "outputs": [
    {
     "data": {
      "text/plain": [
       "torch.Size([2, 6, 2])"
      ]
     },
     "execution_count": 86,
     "metadata": {},
     "output_type": "execute_result"
    }
   ],
   "source": [
    "queries = W_queries(batch)\n",
    "keys = W_keys(batch)\n",
    "values = W_values(batch)\n",
    "queries.shape"
   ]
  },
  {
   "cell_type": "code",
   "execution_count": null,
   "id": "cd62ac0c",
   "metadata": {},
   "outputs": [
    {
     "data": {
      "text/plain": [
       "tensor([[[ 0.2647, -0.9961],\n",
       "         [ 0.1303, -0.8595],\n",
       "         [ 0.2879, -0.8399],\n",
       "         [-0.2338, -0.4768],\n",
       "         [-0.3686, -0.7215],\n",
       "         [-0.9246, -1.9865]],\n",
       "\n",
       "        [[ 0.2647, -0.9961],\n",
       "         [ 0.1303, -0.8595],\n",
       "         [ 0.2879, -0.8399],\n",
       "         [-0.2338, -0.4768],\n",
       "         [-0.3686, -0.7215],\n",
       "         [-0.9246, -1.9865]]], grad_fn=<UnsafeViewBackward0>)"
      ]
     },
     "execution_count": 87,
     "metadata": {},
     "output_type": "execute_result"
    }
   ],
   "source": [
    "keys"
   ]
  },
  {
   "cell_type": "code",
   "execution_count": null,
   "id": "0c3370b9",
   "metadata": {},
   "outputs": [
    {
     "data": {
      "text/plain": [
       "torch.Size([2, 2, 6])"
      ]
     },
     "execution_count": 88,
     "metadata": {},
     "output_type": "execute_result"
    }
   ],
   "source": [
    "keys.mT.shape"
   ]
  },
  {
   "cell_type": "code",
   "execution_count": null,
   "id": "bf03d78d",
   "metadata": {},
   "outputs": [
    {
     "data": {
      "text/plain": [
       "tensor([[[0.3268, 0.2827, 0.2751, 0.1591, 0.2409, 0.6627],\n",
       "         [0.9583, 0.8465, 0.7950, 0.5312, 0.8068, 2.2032],\n",
       "         [1.3182, 1.1263, 1.1189, 0.5903, 0.8915, 2.4649],\n",
       "         [0.7046, 0.6293, 0.5800, 0.4159, 0.6326, 1.7221],\n",
       "         [0.5637, 0.5326, 0.4448, 0.4398, 0.6726, 1.8091],\n",
       "         [2.0887, 1.9029, 1.6948, 1.3700, 2.0884, 5.6573]],\n",
       "\n",
       "        [[0.3268, 0.2827, 0.2751, 0.1591, 0.2409, 0.6627],\n",
       "         [0.9583, 0.8465, 0.7950, 0.5312, 0.8068, 2.2032],\n",
       "         [1.3182, 1.1263, 1.1189, 0.5903, 0.8915, 2.4649],\n",
       "         [0.7046, 0.6293, 0.5800, 0.4159, 0.6326, 1.7221],\n",
       "         [0.5637, 0.5326, 0.4448, 0.4398, 0.6726, 1.8091],\n",
       "         [2.0887, 1.9029, 1.6948, 1.3700, 2.0884, 5.6573]]],\n",
       "       grad_fn=<UnsafeViewBackward0>)"
      ]
     },
     "execution_count": 89,
     "metadata": {},
     "output_type": "execute_result"
    }
   ],
   "source": [
    "attn_scores = queries @ keys.mT\n",
    "attn_scores"
   ]
  },
  {
   "cell_type": "code",
   "execution_count": null,
   "id": "046d22cf",
   "metadata": {},
   "outputs": [
    {
     "data": {
      "text/plain": [
       "tensor([[False,  True,  True,  True,  True,  True],\n",
       "        [False, False,  True,  True,  True,  True],\n",
       "        [False, False, False,  True,  True,  True],\n",
       "        [False, False, False, False,  True,  True],\n",
       "        [False, False, False, False, False,  True],\n",
       "        [False, False, False, False, False, False]])"
      ]
     },
     "execution_count": 90,
     "metadata": {},
     "output_type": "execute_result"
    }
   ],
   "source": [
    "mask = torch.triu(torch.ones(context_size, context_size), diagonal=1)\n",
    "mask.bool()"
   ]
  },
  {
   "cell_type": "code",
   "execution_count": null,
   "id": "02380cb7",
   "metadata": {},
   "outputs": [
    {
     "data": {
      "text/plain": [
       "tensor([[[0.3268,   -inf,   -inf,   -inf,   -inf,   -inf],\n",
       "         [0.9583, 0.8465,   -inf,   -inf,   -inf,   -inf],\n",
       "         [1.3182, 1.1263, 1.1189,   -inf,   -inf,   -inf],\n",
       "         [0.7046, 0.6293, 0.5800, 0.4159,   -inf,   -inf],\n",
       "         [0.5637, 0.5326, 0.4448, 0.4398, 0.6726,   -inf],\n",
       "         [2.0887, 1.9029, 1.6948, 1.3700, 2.0884, 5.6573]],\n",
       "\n",
       "        [[0.3268,   -inf,   -inf,   -inf,   -inf,   -inf],\n",
       "         [0.9583, 0.8465,   -inf,   -inf,   -inf,   -inf],\n",
       "         [1.3182, 1.1263, 1.1189,   -inf,   -inf,   -inf],\n",
       "         [0.7046, 0.6293, 0.5800, 0.4159,   -inf,   -inf],\n",
       "         [0.5637, 0.5326, 0.4448, 0.4398, 0.6726,   -inf],\n",
       "         [2.0887, 1.9029, 1.6948, 1.3700, 2.0884, 5.6573]]],\n",
       "       grad_fn=<MaskedFillBackward0>)"
      ]
     },
     "execution_count": 91,
     "metadata": {},
     "output_type": "execute_result"
    }
   ],
   "source": [
    "attn_scores.masked_fill_(mask.bool(), -torch.inf)"
   ]
  },
  {
   "cell_type": "code",
   "execution_count": null,
   "id": "ead466ee",
   "metadata": {},
   "outputs": [
    {
     "data": {
      "text/plain": [
       "tensor([[[1.0000, 0.0000, 0.0000, 0.0000, 0.0000, 0.0000],\n",
       "         [0.5279, 0.4721, 0.0000, 0.0000, 0.0000, 0.0000],\n",
       "         [0.3781, 0.3121, 0.3098, 0.0000, 0.0000, 0.0000],\n",
       "         [0.2809, 0.2606, 0.2480, 0.2105, 0.0000, 0.0000],\n",
       "         [0.2059, 0.1996, 0.1829, 0.1819, 0.2296, 0.0000],\n",
       "         [0.0253, 0.0210, 0.0171, 0.0124, 0.0253, 0.8988]],\n",
       "\n",
       "        [[1.0000, 0.0000, 0.0000, 0.0000, 0.0000, 0.0000],\n",
       "         [0.5279, 0.4721, 0.0000, 0.0000, 0.0000, 0.0000],\n",
       "         [0.3781, 0.3121, 0.3098, 0.0000, 0.0000, 0.0000],\n",
       "         [0.2809, 0.2606, 0.2480, 0.2105, 0.0000, 0.0000],\n",
       "         [0.2059, 0.1996, 0.1829, 0.1819, 0.2296, 0.0000],\n",
       "         [0.0253, 0.0210, 0.0171, 0.0124, 0.0253, 0.8988]]],\n",
       "       grad_fn=<SoftmaxBackward0>)"
      ]
     },
     "execution_count": 92,
     "metadata": {},
     "output_type": "execute_result"
    }
   ],
   "source": [
    "attn_weights = torch.softmax( attn_scores, dim=-1)\n",
    "attn_weights"
   ]
  },
  {
   "cell_type": "code",
   "execution_count": null,
   "id": "aa17a583",
   "metadata": {},
   "outputs": [
    {
     "data": {
      "text/plain": [
       "tensor([[[ 0.3704,  1.0257],\n",
       "         [ 0.3473,  1.0855],\n",
       "         [ 0.3471,  1.2279],\n",
       "         [ 0.2238,  1.1000],\n",
       "         [ 0.0965,  0.9593],\n",
       "         [-0.7265,  1.8707]],\n",
       "\n",
       "        [[ 0.3704,  1.0257],\n",
       "         [ 0.3473,  1.0855],\n",
       "         [ 0.3471,  1.2279],\n",
       "         [ 0.2238,  1.1000],\n",
       "         [ 0.0965,  0.9593],\n",
       "         [-0.7265,  1.8707]]], grad_fn=<UnsafeViewBackward0>)"
      ]
     },
     "execution_count": 93,
     "metadata": {},
     "output_type": "execute_result"
    }
   ],
   "source": [
    "attn_weights @ values"
   ]
  },
  {
   "cell_type": "code",
   "execution_count": null,
   "id": "65931ee2",
   "metadata": {},
   "outputs": [
    {
     "name": "stdout",
     "output_type": "stream",
     "text": [
      "The autoreload extension is already loaded. To reload it, use:\n",
      "  %reload_ext autoreload\n"
     ]
    }
   ],
   "source": [
    "%load_ext autoreload\n",
    "%autoreload 2"
   ]
  },
  {
   "cell_type": "code",
   "execution_count": null,
   "id": "253f1bf3",
   "metadata": {},
   "outputs": [
    {
     "data": {
      "text/plain": [
       "tensor([[[ 0.0000,  0.0000],\n",
       "         [ 0.3035,  1.0879],\n",
       "         [ 0.2007,  0.7192],\n",
       "         [ 0.3384,  1.3697],\n",
       "         [ 0.1525,  1.1321],\n",
       "         [-1.4524,  3.6654]],\n",
       "\n",
       "        [[ 0.7408,  2.0515],\n",
       "         [ 0.3911,  1.0830],\n",
       "         [ 0.6942,  2.4557],\n",
       "         [ 0.3384,  1.3697],\n",
       "         [ 0.4069,  1.4497],\n",
       "         [-1.4524,  3.6654]]], grad_fn=<UnsafeViewBackward0>)"
      ]
     },
     "execution_count": 101,
     "metadata": {},
     "output_type": "execute_result"
    }
   ],
   "source": [
    "from causal_attention import CausalAttention\n",
    "torch.manual_seed(123)\n",
    "causal_attention = CausalAttention(\n",
    "    batch.shape[-1],\n",
    "    2,\n",
    "    batch.shape[-2],\n",
    "    dropout=0.5\n",
    ")\n",
    "causal_attention.forward(batch)"
   ]
  },
  {
   "cell_type": "markdown",
   "id": "b561bce0",
   "metadata": {},
   "source": [
    "# Test Multihead Attention"
   ]
  },
  {
   "cell_type": "code",
   "execution_count": 1,
   "id": "4c6fc788",
   "metadata": {},
   "outputs": [],
   "source": [
    "import sys\n",
    "sys.path.append('..')\n",
    "\n",
    "import torch\n",
    "from attention.multi_head_attention import MultiHeadAttention\n",
    "inputs = torch.tensor(\n",
    "    [[0.43, 0.15, 0.89], # Your     (x^1)\n",
    "     [0.55, 0.87, 0.66], # journey  (x^2)\n",
    "     [0.57, 0.85, 0.64], # starts   (x^3)\n",
    "     [0.22, 0.58, 0.33], # with     (x^4)\n",
    "     [0.77, 0.25, 0.10], # one      (x^5)\n",
    "     [0.05, 0.80, 0.55]] # step     (x^6)\n",
    ")\n",
    "torch.manual_seed(123)\n",
    "batch = torch.stack((inputs, inputs))\n",
    "batch_size, context_size, d_in = batch.shape\n",
    "mha = MultiHeadAttention(d_in, 2, context_size, num_heads=2, dropout=0.0)\n",
    "context_vec = mha(batch)"
   ]
  },
  {
   "cell_type": "code",
   "execution_count": 2,
   "id": "1ff59a33",
   "metadata": {},
   "outputs": [
    {
     "data": {
      "text/plain": [
       "tensor([[[0.3190, 0.4858],\n",
       "         [0.2943, 0.3897],\n",
       "         [0.2856, 0.3593],\n",
       "         [0.2693, 0.3873],\n",
       "         [0.2639, 0.3928],\n",
       "         [0.2575, 0.4028]],\n",
       "\n",
       "        [[0.3190, 0.4858],\n",
       "         [0.2943, 0.3897],\n",
       "         [0.2856, 0.3593],\n",
       "         [0.2693, 0.3873],\n",
       "         [0.2639, 0.3928],\n",
       "         [0.2575, 0.4028]]], grad_fn=<ViewBackward0>)"
      ]
     },
     "execution_count": 2,
     "metadata": {},
     "output_type": "execute_result"
    }
   ],
   "source": [
    "context_vec"
   ]
  },
  {
   "cell_type": "code",
   "execution_count": 3,
   "id": "672d93ca",
   "metadata": {},
   "outputs": [
    {
     "data": {
      "text/plain": [
       "torch.Size([2, 6, 2])"
      ]
     },
     "execution_count": 3,
     "metadata": {},
     "output_type": "execute_result"
    }
   ],
   "source": [
    "context_vec.shape"
   ]
  },
  {
   "cell_type": "code",
   "execution_count": null,
   "id": "5a71d926",
   "metadata": {},
   "outputs": [],
   "source": []
  }
 ],
 "metadata": {
  "kernelspec": {
   "display_name": ".venv",
   "language": "python",
   "name": "python3"
  },
  "language_info": {
   "codemirror_mode": {
    "name": "ipython",
    "version": 3
   },
   "file_extension": ".py",
   "mimetype": "text/x-python",
   "name": "python",
   "nbconvert_exporter": "python",
   "pygments_lexer": "ipython3",
   "version": "3.10.12"
  }
 },
 "nbformat": 4,
 "nbformat_minor": 5
}
