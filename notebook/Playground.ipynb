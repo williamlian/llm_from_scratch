{
 "cells": [
  {
   "cell_type": "code",
   "execution_count": 5,
   "metadata": {},
   "outputs": [],
   "source": [
    "import numpy\n",
    "import torch"
   ]
  },
  {
   "cell_type": "code",
   "execution_count": 11,
   "metadata": {},
   "outputs": [
    {
     "name": "stdout",
     "output_type": "stream",
     "text": [
      "tensor([[[[7.0088e-02, 5.4411e-01],\n",
      "          [1.5614e-01, 5.4402e-01]],\n",
      "\n",
      "         [[2.1278e-01, 6.7651e-01],\n",
      "          [2.1740e-01, 5.4520e-04]],\n",
      "\n",
      "         [[6.2553e-01, 4.1478e-01],\n",
      "          [5.4899e-01, 2.6189e-02]]],\n",
      "\n",
      "\n",
      "        [[[8.5494e-01, 3.7160e-01],\n",
      "          [8.8028e-01, 3.4913e-01]],\n",
      "\n",
      "         [[1.6463e-01, 7.1440e-01],\n",
      "          [8.4501e-01, 8.9042e-01]],\n",
      "\n",
      "         [[6.4149e-01, 5.9404e-01],\n",
      "          [6.3455e-01, 7.3410e-01]]],\n",
      "\n",
      "\n",
      "        [[[2.8943e-01, 3.3791e-01],\n",
      "          [1.9303e-01, 5.2475e-01]],\n",
      "\n",
      "         [[1.9472e-01, 8.3129e-01],\n",
      "          [1.3181e-01, 6.4388e-01]],\n",
      "\n",
      "         [[5.8378e-01, 1.7016e-01],\n",
      "          [3.8702e-01, 8.1579e-01]]],\n",
      "\n",
      "\n",
      "        [[[6.4811e-01, 4.2878e-01],\n",
      "          [1.7878e-01, 4.1410e-01]],\n",
      "\n",
      "         [[9.5440e-01, 5.1953e-01],\n",
      "          [4.1501e-01, 6.1072e-01]],\n",
      "\n",
      "         [[2.2875e-01, 1.0662e-01],\n",
      "          [7.7653e-01, 2.3136e-02]]]])\n"
     ]
    }
   ],
   "source": [
    "d = torch.rand(4,3,2,2)\n",
    "print(d)"
   ]
  },
  {
   "cell_type": "code",
   "execution_count": 13,
   "metadata": {},
   "outputs": [
    {
     "data": {
      "text/plain": [
       "tensor([[0., 1.],\n",
       "        [0., 0.]])"
      ]
     },
     "execution_count": 13,
     "metadata": {},
     "output_type": "execute_result"
    }
   ],
   "source": [
    "mask = torch.triu(torch.ones(2, 2), diagonal=1)\n",
    "mask"
   ]
  },
  {
   "cell_type": "code",
   "execution_count": 18,
   "metadata": {},
   "outputs": [
    {
     "data": {
      "text/plain": [
       "tensor([[[[7.0088e-02,       -inf],\n",
       "          [1.5614e-01, 5.4402e-01]],\n",
       "\n",
       "         [[2.1278e-01,       -inf],\n",
       "          [2.1740e-01, 5.4520e-04]],\n",
       "\n",
       "         [[6.2553e-01,       -inf],\n",
       "          [5.4899e-01, 2.6189e-02]]],\n",
       "\n",
       "\n",
       "        [[[8.5494e-01,       -inf],\n",
       "          [8.8028e-01, 3.4913e-01]],\n",
       "\n",
       "         [[1.6463e-01,       -inf],\n",
       "          [8.4501e-01, 8.9042e-01]],\n",
       "\n",
       "         [[6.4149e-01,       -inf],\n",
       "          [6.3455e-01, 7.3410e-01]]],\n",
       "\n",
       "\n",
       "        [[[2.8943e-01,       -inf],\n",
       "          [1.9303e-01, 5.2475e-01]],\n",
       "\n",
       "         [[1.9472e-01,       -inf],\n",
       "          [1.3181e-01, 6.4388e-01]],\n",
       "\n",
       "         [[5.8378e-01,       -inf],\n",
       "          [3.8702e-01, 8.1579e-01]]],\n",
       "\n",
       "\n",
       "        [[[6.4811e-01,       -inf],\n",
       "          [1.7878e-01, 4.1410e-01]],\n",
       "\n",
       "         [[9.5440e-01,       -inf],\n",
       "          [4.1501e-01, 6.1072e-01]],\n",
       "\n",
       "         [[2.2875e-01,       -inf],\n",
       "          [7.7653e-01, 2.3136e-02]]]])"
      ]
     },
     "execution_count": 18,
     "metadata": {},
     "output_type": "execute_result"
    }
   ],
   "source": [
    "d.masked_fill(mask.bool(), -torch.inf)"
   ]
  },
  {
   "cell_type": "code",
   "execution_count": null,
   "metadata": {},
   "outputs": [],
   "source": []
  }
 ],
 "metadata": {
  "kernelspec": {
   "display_name": ".venv",
   "language": "python",
   "name": "python3"
  },
  "language_info": {
   "codemirror_mode": {
    "name": "ipython",
    "version": 3
   },
   "file_extension": ".py",
   "mimetype": "text/x-python",
   "name": "python",
   "nbconvert_exporter": "python",
   "pygments_lexer": "ipython3",
   "version": "3.10.12"
  }
 },
 "nbformat": 4,
 "nbformat_minor": 2
}
